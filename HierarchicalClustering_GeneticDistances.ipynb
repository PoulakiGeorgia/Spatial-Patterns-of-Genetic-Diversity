{
  "nbformat": 4,
  "nbformat_minor": 0,
  "metadata": {
    "colab": {
      "provenance": []
    },
    "kernelspec": {
      "name": "python3",
      "display_name": "Python 3"
    },
    "language_info": {
      "name": "python"
    }
  },
  "cells": [
    {
      "cell_type": "markdown",
      "source": [
        "Hierarchical clustering is implemented using 3 different genetic distances, Manhattan, Binary and Jaccard. The distances are calculated using Scikit learn package. The dendrograms are created using SciPy package."
      ],
      "metadata": {
        "id": "tsX7pvPJXJN7"
      }
    },
    {
      "cell_type": "markdown",
      "source": [
        "Hierarchical clustering using Manhattan genetic distance:"
      ],
      "metadata": {
        "id": "exFPWLhCZqNE"
      }
    },
    {
      "cell_type": "code",
      "execution_count": null,
      "metadata": {
        "id": "Co6cKnJhWYqR"
      },
      "outputs": [],
      "source": [
        "# Load libraries\n",
        "from scipy.spatial.distance import pdist, squareform\n",
        "import matplotlib.pyplot as plt\n",
        "from scipy.cluster.hierarchy import dendrogram, linkage\n",
        "from sklearn.metrics import pairwise_distances\n",
        "\n",
        "\n",
        "# Compute manhattan distance matrix\n",
        "manhattan_distance = pairwise_distances(final_df, metric='manhattan')\n",
        "condensed_manhattan_distance = squareform(manhattan_distance)\n",
        "\n",
        "# Perform hierarchical clustering using 'ward' method\n",
        "linkage_manhattan = linkage(condensed_manhattan_distance, method='ward')\n",
        "\n",
        "\n",
        "# Convert panda series to list\n",
        "location_labels = location_data.tolist()\n",
        "# Get unique locations\n",
        "unique_locations = list(set(location_labels))\n",
        "# Generate a colormap for each location\n",
        "location_colors = {region: plt.cm.tab10(i) for i, region in enumerate(unique_locations)}\n",
        "\n",
        "\n",
        "def assign_colors(labels, region_colors):\n",
        "  ''' Assign colors based on the region '''\n",
        "  leaf_colors = []\n",
        "  for label in labels:\n",
        "        region = label\n",
        "        color = region_colors[region]\n",
        "        leaf_colors.append(color)\n",
        "  return leaf_colors\n",
        "\n",
        "\n",
        "# Create a dendrogram\n",
        "plt.figure(figsize=(12, 8))\n",
        "dendrogram(linkage_manhattan,\n",
        "           orientation='top',\n",
        "           labels=location_labels, # Use location labels for labels\n",
        "           leaf_rotation=90,\n",
        "           leaf_font_size= 8)\n",
        "\n",
        "\n",
        "# Get x axis\n",
        "ax = plt.gca()\n",
        "x_labels = ax.get_xticklabels()   # Retrieve the labels on x-axis\n",
        "# Iterate through the x labels and change their colors if they match a region\n",
        "for label in x_labels:\n",
        "    text = label.get_text()\n",
        "    if text in location_colors:\n",
        "        label.set_color(location_colors[text])\n",
        "\n",
        "plt.title(\"Hierarchical Clustering Dendrogram - Manhattan\")\n",
        "plt.xlabel(\"Samples\")\n",
        "plt.ylabel(\"Distance\")\n",
        "\n",
        "# Save the figure\n",
        "image1_path = '/content/drive/MyDrive/dendrogram_manhattan.png'\n",
        "plt.savefig(image1_path, dpi=300, bbox_inches='tight')"
      ]
    },
    {
      "cell_type": "markdown",
      "source": [
        "Hierarchical clustering using Binary genetic distance:"
      ],
      "metadata": {
        "id": "5WN-uXrlasUl"
      }
    },
    {
      "cell_type": "code",
      "source": [
        "# Compute binary distance matrix\n",
        "binary_distance = pairwise_distances(final_df, metric='hamming')\n",
        "condensed_binary_distance = squareform(binary_distance)\n",
        "# Perform hierarchical clustering using 'ward' method\n",
        "linkage_hamming = linkage(condensed_binary_distance, method='ward')\n",
        "\n",
        "# Convert panda series to list\n",
        "location_labels = location_data.tolist()\n",
        "# Get unique locations\n",
        "unique_locations = list(set(location_labels))\n",
        "# Generate a colormap for each location\n",
        "location_colors = {region: plt.cm.tab10(i) for i, region in enumerate(unique_locations)}\n",
        "\n",
        "\n",
        "def assign_colors(labels, region_colors):\n",
        "    ''' Assign colors based on the region '''\n",
        "    leaf_colors = []\n",
        "    for label in labels:\n",
        "        region = label\n",
        "        color = region_colors[region]\n",
        "        leaf_colors.append(color)\n",
        "    return leaf_colors\n",
        "\n",
        "\n",
        "# Create a dendrogram\n",
        "plt.figure(figsize=(12, 8))\n",
        "dendrogram(linkage_hamming,\n",
        "           orientation='top',\n",
        "           labels=location_labels,  # Use location labels for labels\n",
        "           leaf_rotation=90,\n",
        "           leaf_font_size= 8)\n",
        "\n",
        "\n",
        "# Get x axis\n",
        "ax = plt.gca()\n",
        "x_labels = ax.get_xticklabels()    # Retrieve the labels on x-axis\n",
        "# Iterate through the x labels and change their colors if they match a region\n",
        "for label in x_labels:\n",
        "    text = label.get_text()\n",
        "    if text in location_colors:\n",
        "        label.set_color(location_colors[text])\n",
        "\n",
        "plt.title(\"Hierarchical Clustering Dendrogram - Binary\")\n",
        "plt.xlabel(\"Samples\")\n",
        "plt.ylabel(\"Distance\")\n",
        "\n",
        "# Save the figure\n",
        "image2_path = '/content/drive/MyDrive/dendrogram_binary.png'\n",
        "plt.savefig(image2_path, dpi=300, bbox_inches='tight')"
      ],
      "metadata": {
        "id": "dv_KzTW1XPk9"
      },
      "execution_count": null,
      "outputs": []
    },
    {
      "cell_type": "markdown",
      "source": [
        "Hierarchical clustering using Jaccard genetic distance:"
      ],
      "metadata": {
        "id": "wYLZv8DXazT9"
      }
    },
    {
      "cell_type": "code",
      "source": [
        "# Compute Jaccard distance matrix\n",
        "jaccard_distance = squareform(pdist(final_df, metric='jaccard'))\n",
        "condensed_jaccard_distance = squareform(jaccard_distance)\n",
        "# Perform hierarchical clustering using 'ward' method\n",
        "linkage_jaccard = linkage(condensed_jaccard_distance, method='ward')\n",
        "\n",
        "# Convert panda series to list\n",
        "location_labels = location_data.tolist()\n",
        "# Get unique locations\n",
        "unique_locations = list(set(location_labels))\n",
        "# Generate a colormap for each location\n",
        "location_colors = {region: plt.cm.tab10(i) for i, region in enumerate(unique_locations)}\n",
        "\n",
        "def assign_colors(labels, region_colors):\n",
        "    ''' Assign colors based on the region '''\n",
        "    leaf_colors = []\n",
        "    for label in labels:\n",
        "        region = label\n",
        "        color = region_colors[region]\n",
        "        leaf_colors.append(color)\n",
        "    return leaf_colors\n",
        "\n",
        "\n",
        "# Create a dendrogram\n",
        "plt.figure(figsize=(12, 8))\n",
        "dendrogram(linkage_jaccard,\n",
        "           orientation='top',\n",
        "\n",
        "           labels=location_labels,\n",
        "           leaf_rotation=90,\n",
        "           leaf_font_size= 8)\n",
        "\n",
        "\n",
        "# Get x axis\n",
        "ax = plt.gca()\n",
        "x_labels = ax.get_xticklabels() # Retrieve the labels on x-axis\n",
        "# Iterate through the x labels and change their colors if they match a region\n",
        "for label in x_labels:\n",
        "    text = label.get_text()\n",
        "    if text in location_colors:\n",
        "        label.set_color(location_colors[text])\n",
        "\n",
        "plt.title(\"Hierarchical Clustering Dendrogram - Jaccard\")\n",
        "plt.xlabel(\"Samples\")\n",
        "plt.ylabel(\"Distance\")\n",
        "\n",
        "# Save the figure\n",
        "image1_path = '/content/drive/MyDrive/dendrogram_jaccard.png'\n",
        "plt.savefig(image1_path, dpi=300, bbox_inches='tight')"
      ],
      "metadata": {
        "id": "hIwRxBBTXTwb"
      },
      "execution_count": null,
      "outputs": []
    }
  ]
}